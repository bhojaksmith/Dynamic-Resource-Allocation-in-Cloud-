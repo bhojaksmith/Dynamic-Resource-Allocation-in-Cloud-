{
  "nbformat": 4,
  "nbformat_minor": 0,
  "metadata": {
    "colab": {
      "name": "NewCremeAndKeras.ipynb",
      "provenance": [],
      "collapsed_sections": [],
      "toc_visible": true,
      "include_colab_link": true
    },
    "kernelspec": {
      "name": "python3",
      "display_name": "Python 3"
    }
  },
  "cells": [
    {
      "cell_type": "markdown",
      "metadata": {
        "id": "view-in-github",
        "colab_type": "text"
      },
      "source": [
        "<a href=\"https://colab.research.google.com/github/bhojaksmith/temp/blob/master/NewCremeAndKeras.ipynb\" target=\"_parent\"><img src=\"https://colab.research.google.com/assets/colab-badge.svg\" alt=\"Open In Colab\"/></a>"
      ]
    },
    {
      "cell_type": "code",
      "metadata": {
        "id": "x9Sq16EY2vkK",
        "colab_type": "code",
        "colab": {
          "base_uri": "https://localhost:8080/",
          "height": 272
        },
        "outputId": "5a304799-dd4c-4b39-e493-039856e8bab8"
      },
      "source": [
        "  pip install creme"
      ],
      "execution_count": null,
      "outputs": [
        {
          "output_type": "stream",
          "text": [
            "Collecting creme\n",
            "\u001b[?25l  Downloading https://files.pythonhosted.org/packages/d9/5d/5ad58e174c9cc614e4c1cdf291ded00a0a3ab6165eee3374ad35abaff83a/creme-0.5.1-cp36-cp36m-manylinux2010_x86_64.whl (1.6MB)\n",
            "\r\u001b[K     |▏                               | 10kB 14.8MB/s eta 0:00:01\r\u001b[K     |▍                               | 20kB 1.7MB/s eta 0:00:01\r\u001b[K     |▋                               | 30kB 2.3MB/s eta 0:00:01\r\u001b[K     |▉                               | 40kB 2.5MB/s eta 0:00:01\r\u001b[K     |█                               | 51kB 2.0MB/s eta 0:00:01\r\u001b[K     |█▏                              | 61kB 2.2MB/s eta 0:00:01\r\u001b[K     |█▍                              | 71kB 2.5MB/s eta 0:00:01\r\u001b[K     |█▋                              | 81kB 2.7MB/s eta 0:00:01\r\u001b[K     |█▉                              | 92kB 2.8MB/s eta 0:00:01\r\u001b[K     |██                              | 102kB 2.7MB/s eta 0:00:01\r\u001b[K     |██▏                             | 112kB 2.7MB/s eta 0:00:01\r\u001b[K     |██▍                             | 122kB 2.7MB/s eta 0:00:01\r\u001b[K     |██▋                             | 133kB 2.7MB/s eta 0:00:01\r\u001b[K     |██▉                             | 143kB 2.7MB/s eta 0:00:01\r\u001b[K     |███                             | 153kB 2.7MB/s eta 0:00:01\r\u001b[K     |███▏                            | 163kB 2.7MB/s eta 0:00:01\r\u001b[K     |███▍                            | 174kB 2.7MB/s eta 0:00:01\r\u001b[K     |███▋                            | 184kB 2.7MB/s eta 0:00:01\r\u001b[K     |███▉                            | 194kB 2.7MB/s eta 0:00:01\r\u001b[K     |████                            | 204kB 2.7MB/s eta 0:00:01\r\u001b[K     |████▏                           | 215kB 2.7MB/s eta 0:00:01\r\u001b[K     |████▍                           | 225kB 2.7MB/s eta 0:00:01\r\u001b[K     |████▋                           | 235kB 2.7MB/s eta 0:00:01\r\u001b[K     |████▉                           | 245kB 2.7MB/s eta 0:00:01\r\u001b[K     |█████                           | 256kB 2.7MB/s eta 0:00:01\r\u001b[K     |█████▏                          | 266kB 2.7MB/s eta 0:00:01\r\u001b[K     |█████▍                          | 276kB 2.7MB/s eta 0:00:01\r\u001b[K     |█████▋                          | 286kB 2.7MB/s eta 0:00:01\r\u001b[K     |█████▊                          | 296kB 2.7MB/s eta 0:00:01\r\u001b[K     |██████                          | 307kB 2.7MB/s eta 0:00:01\r\u001b[K     |██████▏                         | 317kB 2.7MB/s eta 0:00:01\r\u001b[K     |██████▍                         | 327kB 2.7MB/s eta 0:00:01\r\u001b[K     |██████▋                         | 337kB 2.7MB/s eta 0:00:01\r\u001b[K     |██████▊                         | 348kB 2.7MB/s eta 0:00:01\r\u001b[K     |███████                         | 358kB 2.7MB/s eta 0:00:01\r\u001b[K     |███████▏                        | 368kB 2.7MB/s eta 0:00:01\r\u001b[K     |███████▍                        | 378kB 2.7MB/s eta 0:00:01\r\u001b[K     |███████▋                        | 389kB 2.7MB/s eta 0:00:01\r\u001b[K     |███████▊                        | 399kB 2.7MB/s eta 0:00:01\r\u001b[K     |████████                        | 409kB 2.7MB/s eta 0:00:01\r\u001b[K     |████████▏                       | 419kB 2.7MB/s eta 0:00:01\r\u001b[K     |████████▍                       | 430kB 2.7MB/s eta 0:00:01\r\u001b[K     |████████▋                       | 440kB 2.7MB/s eta 0:00:01\r\u001b[K     |████████▊                       | 450kB 2.7MB/s eta 0:00:01\r\u001b[K     |█████████                       | 460kB 2.7MB/s eta 0:00:01\r\u001b[K     |█████████▏                      | 471kB 2.7MB/s eta 0:00:01\r\u001b[K     |█████████▍                      | 481kB 2.7MB/s eta 0:00:01\r\u001b[K     |█████████▋                      | 491kB 2.7MB/s eta 0:00:01\r\u001b[K     |█████████▊                      | 501kB 2.7MB/s eta 0:00:01\r\u001b[K     |██████████                      | 512kB 2.7MB/s eta 0:00:01\r\u001b[K     |██████████▏                     | 522kB 2.7MB/s eta 0:00:01\r\u001b[K     |██████████▍                     | 532kB 2.7MB/s eta 0:00:01\r\u001b[K     |██████████▌                     | 542kB 2.7MB/s eta 0:00:01\r\u001b[K     |██████████▊                     | 552kB 2.7MB/s eta 0:00:01\r\u001b[K     |███████████                     | 563kB 2.7MB/s eta 0:00:01\r\u001b[K     |███████████▏                    | 573kB 2.7MB/s eta 0:00:01\r\u001b[K     |███████████▍                    | 583kB 2.7MB/s eta 0:00:01\r\u001b[K     |███████████▌                    | 593kB 2.7MB/s eta 0:00:01\r\u001b[K     |███████████▊                    | 604kB 2.7MB/s eta 0:00:01\r\u001b[K     |████████████                    | 614kB 2.7MB/s eta 0:00:01\r\u001b[K     |████████████▏                   | 624kB 2.7MB/s eta 0:00:01\r\u001b[K     |████████████▍                   | 634kB 2.7MB/s eta 0:00:01\r\u001b[K     |████████████▌                   | 645kB 2.7MB/s eta 0:00:01\r\u001b[K     |████████████▊                   | 655kB 2.7MB/s eta 0:00:01\r\u001b[K     |█████████████                   | 665kB 2.7MB/s eta 0:00:01\r\u001b[K     |█████████████▏                  | 675kB 2.7MB/s eta 0:00:01\r\u001b[K     |█████████████▍                  | 686kB 2.7MB/s eta 0:00:01\r\u001b[K     |█████████████▌                  | 696kB 2.7MB/s eta 0:00:01\r\u001b[K     |█████████████▊                  | 706kB 2.7MB/s eta 0:00:01\r\u001b[K     |██████████████                  | 716kB 2.7MB/s eta 0:00:01\r\u001b[K     |██████████████▏                 | 727kB 2.7MB/s eta 0:00:01\r\u001b[K     |██████████████▍                 | 737kB 2.7MB/s eta 0:00:01\r\u001b[K     |██████████████▌                 | 747kB 2.7MB/s eta 0:00:01\r\u001b[K     |██████████████▊                 | 757kB 2.7MB/s eta 0:00:01\r\u001b[K     |███████████████                 | 768kB 2.7MB/s eta 0:00:01\r\u001b[K     |███████████████▏                | 778kB 2.7MB/s eta 0:00:01\r\u001b[K     |███████████████▎                | 788kB 2.7MB/s eta 0:00:01\r\u001b[K     |███████████████▌                | 798kB 2.7MB/s eta 0:00:01\r\u001b[K     |███████████████▊                | 808kB 2.7MB/s eta 0:00:01\r\u001b[K     |████████████████                | 819kB 2.7MB/s eta 0:00:01\r\u001b[K     |████████████████▏               | 829kB 2.7MB/s eta 0:00:01\r\u001b[K     |████████████████▎               | 839kB 2.7MB/s eta 0:00:01\r\u001b[K     |████████████████▌               | 849kB 2.7MB/s eta 0:00:01\r\u001b[K     |████████████████▊               | 860kB 2.7MB/s eta 0:00:01\r\u001b[K     |█████████████████               | 870kB 2.7MB/s eta 0:00:01\r\u001b[K     |█████████████████▏              | 880kB 2.7MB/s eta 0:00:01\r\u001b[K     |█████████████████▎              | 890kB 2.7MB/s eta 0:00:01\r\u001b[K     |█████████████████▌              | 901kB 2.7MB/s eta 0:00:01\r\u001b[K     |█████████████████▊              | 911kB 2.7MB/s eta 0:00:01\r\u001b[K     |██████████████████              | 921kB 2.7MB/s eta 0:00:01\r\u001b[K     |██████████████████▏             | 931kB 2.7MB/s eta 0:00:01\r\u001b[K     |██████████████████▎             | 942kB 2.7MB/s eta 0:00:01\r\u001b[K     |██████████████████▌             | 952kB 2.7MB/s eta 0:00:01\r\u001b[K     |██████████████████▊             | 962kB 2.7MB/s eta 0:00:01\r\u001b[K     |███████████████████             | 972kB 2.7MB/s eta 0:00:01\r\u001b[K     |███████████████████▏            | 983kB 2.7MB/s eta 0:00:01\r\u001b[K     |███████████████████▎            | 993kB 2.7MB/s eta 0:00:01\r\u001b[K     |███████████████████▌            | 1.0MB 2.7MB/s eta 0:00:01\r\u001b[K     |███████████████████▊            | 1.0MB 2.7MB/s eta 0:00:01\r\u001b[K     |████████████████████            | 1.0MB 2.7MB/s eta 0:00:01\r\u001b[K     |████████████████████            | 1.0MB 2.7MB/s eta 0:00:01\r\u001b[K     |████████████████████▎           | 1.0MB 2.7MB/s eta 0:00:01\r\u001b[K     |████████████████████▌           | 1.1MB 2.7MB/s eta 0:00:01\r\u001b[K     |████████████████████▊           | 1.1MB 2.7MB/s eta 0:00:01\r\u001b[K     |█████████████████████           | 1.1MB 2.7MB/s eta 0:00:01\r\u001b[K     |█████████████████████           | 1.1MB 2.7MB/s eta 0:00:01\r\u001b[K     |█████████████████████▎          | 1.1MB 2.7MB/s eta 0:00:01\r\u001b[K     |█████████████████████▌          | 1.1MB 2.7MB/s eta 0:00:01\r\u001b[K     |█████████████████████▊          | 1.1MB 2.7MB/s eta 0:00:01\r\u001b[K     |██████████████████████          | 1.1MB 2.7MB/s eta 0:00:01\r\u001b[K     |██████████████████████          | 1.1MB 2.7MB/s eta 0:00:01\r\u001b[K     |██████████████████████▎         | 1.1MB 2.7MB/s eta 0:00:01\r\u001b[K     |██████████████████████▌         | 1.2MB 2.7MB/s eta 0:00:01\r\u001b[K     |██████████████████████▊         | 1.2MB 2.7MB/s eta 0:00:01\r\u001b[K     |███████████████████████         | 1.2MB 2.7MB/s eta 0:00:01\r\u001b[K     |███████████████████████         | 1.2MB 2.7MB/s eta 0:00:01\r\u001b[K     |███████████████████████▎        | 1.2MB 2.7MB/s eta 0:00:01\r\u001b[K     |███████████████████████▌        | 1.2MB 2.7MB/s eta 0:00:01\r\u001b[K     |███████████████████████▊        | 1.2MB 2.7MB/s eta 0:00:01\r\u001b[K     |████████████████████████        | 1.2MB 2.7MB/s eta 0:00:01\r\u001b[K     |████████████████████████        | 1.2MB 2.7MB/s eta 0:00:01\r\u001b[K     |████████████████████████▎       | 1.2MB 2.7MB/s eta 0:00:01\r\u001b[K     |████████████████████████▌       | 1.3MB 2.7MB/s eta 0:00:01\r\u001b[K     |████████████████████████▊       | 1.3MB 2.7MB/s eta 0:00:01\r\u001b[K     |█████████████████████████       | 1.3MB 2.7MB/s eta 0:00:01\r\u001b[K     |█████████████████████████       | 1.3MB 2.7MB/s eta 0:00:01\r\u001b[K     |█████████████████████████▎      | 1.3MB 2.7MB/s eta 0:00:01\r\u001b[K     |█████████████████████████▌      | 1.3MB 2.7MB/s eta 0:00:01\r\u001b[K     |█████████████████████████▊      | 1.3MB 2.7MB/s eta 0:00:01\r\u001b[K     |█████████████████████████▉      | 1.3MB 2.7MB/s eta 0:00:01\r\u001b[K     |██████████████████████████      | 1.3MB 2.7MB/s eta 0:00:01\r\u001b[K     |██████████████████████████▎     | 1.4MB 2.7MB/s eta 0:00:01\r\u001b[K     |██████████████████████████▌     | 1.4MB 2.7MB/s eta 0:00:01\r\u001b[K     |██████████████████████████▊     | 1.4MB 2.7MB/s eta 0:00:01\r\u001b[K     |██████████████████████████▉     | 1.4MB 2.7MB/s eta 0:00:01\r\u001b[K     |███████████████████████████     | 1.4MB 2.7MB/s eta 0:00:01\r\u001b[K     |███████████████████████████▎    | 1.4MB 2.7MB/s eta 0:00:01\r\u001b[K     |███████████████████████████▌    | 1.4MB 2.7MB/s eta 0:00:01\r\u001b[K     |███████████████████████████▊    | 1.4MB 2.7MB/s eta 0:00:01\r\u001b[K     |███████████████████████████▉    | 1.4MB 2.7MB/s eta 0:00:01\r\u001b[K     |████████████████████████████    | 1.4MB 2.7MB/s eta 0:00:01\r\u001b[K     |████████████████████████████▎   | 1.5MB 2.7MB/s eta 0:00:01\r\u001b[K     |████████████████████████████▌   | 1.5MB 2.7MB/s eta 0:00:01\r\u001b[K     |████████████████████████████▊   | 1.5MB 2.7MB/s eta 0:00:01\r\u001b[K     |████████████████████████████▉   | 1.5MB 2.7MB/s eta 0:00:01\r\u001b[K     |█████████████████████████████   | 1.5MB 2.7MB/s eta 0:00:01\r\u001b[K     |█████████████████████████████▎  | 1.5MB 2.7MB/s eta 0:00:01\r\u001b[K     |█████████████████████████████▌  | 1.5MB 2.7MB/s eta 0:00:01\r\u001b[K     |█████████████████████████████▊  | 1.5MB 2.7MB/s eta 0:00:01\r\u001b[K     |█████████████████████████████▉  | 1.5MB 2.7MB/s eta 0:00:01\r\u001b[K     |██████████████████████████████  | 1.5MB 2.7MB/s eta 0:00:01\r\u001b[K     |██████████████████████████████▎ | 1.6MB 2.7MB/s eta 0:00:01\r\u001b[K     |██████████████████████████████▌ | 1.6MB 2.7MB/s eta 0:00:01\r\u001b[K     |██████████████████████████████▋ | 1.6MB 2.7MB/s eta 0:00:01\r\u001b[K     |██████████████████████████████▉ | 1.6MB 2.7MB/s eta 0:00:01\r\u001b[K     |███████████████████████████████ | 1.6MB 2.7MB/s eta 0:00:01\r\u001b[K     |███████████████████████████████▎| 1.6MB 2.7MB/s eta 0:00:01\r\u001b[K     |███████████████████████████████▌| 1.6MB 2.7MB/s eta 0:00:01\r\u001b[K     |███████████████████████████████▋| 1.6MB 2.7MB/s eta 0:00:01\r\u001b[K     |███████████████████████████████▉| 1.6MB 2.7MB/s eta 0:00:01\r\u001b[K     |████████████████████████████████| 1.6MB 2.7MB/s \n",
            "\u001b[?25hCollecting mmh3==2.5.1\n",
            "  Downloading https://files.pythonhosted.org/packages/fa/7e/3ddcab0a9fcea034212c02eb411433db9330e34d626360b97333368b4052/mmh3-2.5.1.tar.gz\n",
            "Requirement already satisfied: scipy>=1.4.1 in /usr/local/lib/python3.6/dist-packages (from creme) (1.4.1)\n",
            "Requirement already satisfied: numpy>=1.18.1 in /usr/local/lib/python3.6/dist-packages (from creme) (1.18.4)\n",
            "Building wheels for collected packages: mmh3\n",
            "  Building wheel for mmh3 (setup.py) ... \u001b[?25l\u001b[?25hdone\n",
            "  Created wheel for mmh3: filename=mmh3-2.5.1-cp36-cp36m-linux_x86_64.whl size=37848 sha256=ebe0d0f9b753710f491aa2bf95b22692e4219b143e22207b09f4ab2bb6642651\n",
            "  Stored in directory: /root/.cache/pip/wheels/38/b4/ea/6e4e321c625d3320c0c496bf4088371546d8fce5f1dd71b219\n",
            "Successfully built mmh3\n",
            "Installing collected packages: mmh3, creme\n",
            "Successfully installed creme-0.5.1 mmh3-2.5.1\n"
          ],
          "name": "stdout"
        }
      ]
    },
    {
      "cell_type": "code",
      "metadata": {
        "id": "JgU9Cxdq20QN",
        "colab_type": "code",
        "colab": {}
      },
      "source": [
        "# import cv2\n",
        "# import imutils\n",
        "# import keras\n",
        "\n",
        "from sklearn.metrics import mean_squared_error, r2_score\n",
        "from math import sqrt\n",
        "from sklearn.metrics import mean_absolute_error\n",
        "from sklearn import preprocessing\n",
        "import creme\n",
        "from creme import preprocessing\n",
        "from creme import linear_model\n",
        "from creme import optim\n",
        "from creme import metrics\n",
        "from creme import datasets\n",
        "from creme import stream\n",
        "\n",
        "import pandas as pd\n",
        "from sklearn.preprocessing import StandardScaler\n",
        "from sklearn.metrics import mean_squared_error, r2_score\n",
        "from math import sqrt\n",
        "from sklearn.metrics import mean_absolute_error\n",
        "import matplotlib.pyplot as plt"
      ],
      "execution_count": null,
      "outputs": []
    },
    {
      "cell_type": "code",
      "metadata": {
        "id": "SVZlEjjFqchQ",
        "colab_type": "code",
        "colab": {}
      },
      "source": [
        ""
      ],
      "execution_count": null,
      "outputs": []
    },
    {
      "cell_type": "code",
      "metadata": {
        "id": "rF7vS7ZpwKIi",
        "colab_type": "code",
        "colab": {}
      },
      "source": [
        "def fetch_networkUsage(data_home=None, silent=True):\n",
        "    name = 'Network_transmitted_throughput_Low'\n",
        "    url = 'https://github.com/Deval99/Datasets/blob/master/Network_transmitted_throughput_Low.zip?raw=true'\n",
        "    data_dir_path = datasets.download_dataset(name, url, data_home, archive_type='zip', silent=silent)\n",
        "\n",
        "    return stream.iter_csv(\n",
        "        f'{data_dir_path}/{name}.csv',\n",
        "        target_name='Network_transmitted_throughput_KBs',\n",
        "        converters={\n",
        "            'Timestamp_ms': int,\n",
        "            'Network_transmitted_throughput_KBs':float\n",
        "        },\n",
        "    )"
      ],
      "execution_count": null,
      "outputs": []
    },
    {
      "cell_type": "code",
      "metadata": {
        "id": "YfYEOAHjofU0",
        "colab_type": "code",
        "colab": {
          "base_uri": "https://localhost:8080/",
          "height": 346
        },
        "outputId": "ce08cee8-741f-4f6e-ea40-21a078adc85f"
      },
      "source": [
        "#Regression\n",
        "model=preprocessing.StandardScaler()\n",
        "model |= linear_model.LinearRegression(optimizer=optim.SGD(.1))\n",
        "metric = metrics.Accuracy()\n",
        "X_y=fetch_networkUsage()\n",
        "\n",
        "arrx=list()\n",
        "arry=list()\n",
        "batchSize=32\n",
        "print(\"Batch Size=\", batchSize)\n",
        "\n",
        "batch=list()\n",
        "for i in range(batchSize):\n",
        "  batch.append(next(X_y))\n",
        "\n",
        "\n",
        "for x, y in batch:\n",
        "  # print(x,y)\n",
        "  y_pred = model.predict_one(x)  # Make a prediction\n",
        "  metric = metric.update(y, y_pred)  # Update the metric\n",
        "  # print(\"{0:2.5f} -- {1:2.5f}\".format(y, y_pred))\n",
        "  arrx.append(y)\n",
        "  arry.append(y_pred)\n",
        "  model = model.fit_one(x, y)  \n",
        "\n",
        "\n",
        "\n",
        "\n",
        "\n",
        "print(metric)\n",
        "print(\"Mean squared error: %.2f\"\n",
        "      % mean_squared_error(arrx,arry))\n",
        "print(\"Root Mean squared error: %.2f\"\n",
        "      % sqrt(mean_squared_error(arrx,arry)))\n",
        "print(\"Mean absolute error:%.2f\"\n",
        "      %mean_absolute_error(arrx,arry))\n",
        "\n",
        "\n",
        "\n",
        "\n",
        "\n",
        "  # print(batch['Timestamp_ms'])\n",
        "# print(batch[0][0]['Timestamp_ms'])\n",
        "ts=list()\n",
        "for i in range(batchSize):\n",
        "  ts.append(batch[i][0]['Timestamp_ms'])\n",
        "print(ts)\n",
        "print(len(ts))\n",
        "# print(len(arrx))\n",
        "# print(len(arry))\n",
        "# arrx2=[arrx[i] for i in range(batchSize/2)]\n",
        "# arry2=[arry[i] for i in range(batchSize/2)]\n",
        "plt.plot(ts[:int(batchSize)], arrx[:int(batchSize)],  color='tomato',label='Real Network Transmitted Throughput [KB/s]')\n",
        "plt.plot(ts[:int(batchSize)], arry[:int(batchSize)], color='green', label='Predicted Network Transmitted Throughput [KB/s]')\n",
        "plt.legend(loc='upper left')\n",
        "plt.xlabel('Timestamp [ms]')\n",
        "plt.ylabel('Network Transmitted Throughput [KB/s]')"
      ],
      "execution_count": null,
      "outputs": [
        {
          "output_type": "error",
          "ename": "AttributeError",
          "evalue": "ignored",
          "traceback": [
            "\u001b[0;31m---------------------------------------------------------------------------\u001b[0m",
            "\u001b[0;31mAttributeError\u001b[0m                            Traceback (most recent call last)",
            "\u001b[0;32m<ipython-input-4-5613e5d42753>\u001b[0m in \u001b[0;36m<module>\u001b[0;34m()\u001b[0m\n\u001b[1;32m      2\u001b[0m \u001b[0mmodel\u001b[0m \u001b[0;34m|=\u001b[0m \u001b[0mlinear_model\u001b[0m\u001b[0;34m.\u001b[0m\u001b[0mLinearRegression\u001b[0m\u001b[0;34m(\u001b[0m\u001b[0moptimizer\u001b[0m\u001b[0;34m=\u001b[0m\u001b[0moptim\u001b[0m\u001b[0;34m.\u001b[0m\u001b[0mSGD\u001b[0m\u001b[0;34m(\u001b[0m\u001b[0;36m.1\u001b[0m\u001b[0;34m)\u001b[0m\u001b[0;34m)\u001b[0m\u001b[0;34m\u001b[0m\u001b[0;34m\u001b[0m\u001b[0m\n\u001b[1;32m      3\u001b[0m \u001b[0mmetric\u001b[0m \u001b[0;34m=\u001b[0m \u001b[0mmetrics\u001b[0m\u001b[0;34m.\u001b[0m\u001b[0mAccuracy\u001b[0m\u001b[0;34m(\u001b[0m\u001b[0;34m)\u001b[0m\u001b[0;34m\u001b[0m\u001b[0;34m\u001b[0m\u001b[0m\n\u001b[0;32m----> 4\u001b[0;31m \u001b[0mX_y\u001b[0m\u001b[0;34m=\u001b[0m\u001b[0mfetch_networkUsage\u001b[0m\u001b[0;34m(\u001b[0m\u001b[0;34m)\u001b[0m\u001b[0;34m\u001b[0m\u001b[0;34m\u001b[0m\u001b[0m\n\u001b[0m\u001b[1;32m      5\u001b[0m \u001b[0;34m\u001b[0m\u001b[0m\n\u001b[1;32m      6\u001b[0m \u001b[0marrx\u001b[0m\u001b[0;34m=\u001b[0m\u001b[0mlist\u001b[0m\u001b[0;34m(\u001b[0m\u001b[0;34m)\u001b[0m\u001b[0;34m\u001b[0m\u001b[0;34m\u001b[0m\u001b[0m\n",
            "\u001b[0;32m<ipython-input-3-bbc505af523a>\u001b[0m in \u001b[0;36mfetch_networkUsage\u001b[0;34m(data_home, silent)\u001b[0m\n\u001b[1;32m      2\u001b[0m     \u001b[0mname\u001b[0m \u001b[0;34m=\u001b[0m \u001b[0;34m'Network_transmitted_throughput_Low'\u001b[0m\u001b[0;34m\u001b[0m\u001b[0;34m\u001b[0m\u001b[0m\n\u001b[1;32m      3\u001b[0m     \u001b[0murl\u001b[0m \u001b[0;34m=\u001b[0m \u001b[0;34m'https://github.com/Deval99/Datasets/blob/master/Network_transmitted_throughput_Low.zip?raw=true'\u001b[0m\u001b[0;34m\u001b[0m\u001b[0;34m\u001b[0m\u001b[0m\n\u001b[0;32m----> 4\u001b[0;31m     \u001b[0mdata_dir_path\u001b[0m \u001b[0;34m=\u001b[0m \u001b[0mdatasets\u001b[0m\u001b[0;34m.\u001b[0m\u001b[0mdownload_dataset\u001b[0m\u001b[0;34m(\u001b[0m\u001b[0mname\u001b[0m\u001b[0;34m,\u001b[0m \u001b[0murl\u001b[0m\u001b[0;34m,\u001b[0m \u001b[0mdata_home\u001b[0m\u001b[0;34m,\u001b[0m \u001b[0marchive_type\u001b[0m\u001b[0;34m=\u001b[0m\u001b[0;34m'zip'\u001b[0m\u001b[0;34m,\u001b[0m \u001b[0msilent\u001b[0m\u001b[0;34m=\u001b[0m\u001b[0msilent\u001b[0m\u001b[0;34m)\u001b[0m\u001b[0;34m\u001b[0m\u001b[0;34m\u001b[0m\u001b[0m\n\u001b[0m\u001b[1;32m      5\u001b[0m \u001b[0;34m\u001b[0m\u001b[0m\n\u001b[1;32m      6\u001b[0m     return stream.iter_csv(\n",
            "\u001b[0;31mAttributeError\u001b[0m: module 'creme.datasets' has no attribute 'download_dataset'"
          ]
        }
      ]
    },
    {
      "cell_type": "code",
      "metadata": {
        "id": "w66uOdM0RB6N",
        "colab_type": "code",
        "colab": {}
      },
      "source": [
        "model=preprocessing.StandardScaler()\n",
        "model |= linear_model.LinearRegression(optimizer=optim.SGD(.1))\n",
        "metric = metrics.Accuracy()\n",
        "X_y=fetch_networkUsage()\n",
        "arrx=list()\n",
        "arry=list()\n",
        "batchSize=32\n",
        "print(\"Batch Size=\", batchSize)\n",
        "\n",
        "batch=list()\n",
        "for i in range(batchSize):\n",
        "  batch.append(next(X_y))\n",
        "\n",
        "import keras\n",
        "from keras.models import Sequential\n",
        "from keras.layers import Dense\n",
        "from keras.optimizers import SGD\n",
        "import numpy as np\n",
        "\n",
        "model = Sequential()\n",
        "# model.add(Dense(16, input_dim=20, activation='relu'))\n",
        "# model.add(Dense(12, activation='relu'))\n",
        "# model.add(Dense(4, activation='softmax'))\n",
        "layer_kw = dict(activation='sigmoid', init='glorot_uniform')\n",
        "model.add(Dense(output_dim=5, input_shape=(1, ), **layer_kw))\n",
        "model.add(Dense(output_dim=5, **layer_kw))\n",
        "model.add(Dense(output_dim=1, **layer_kw))\n",
        "sgd=SGD(lr=0.1)\n",
        "model.compile(optimizer=sgd, loss='binary_crossentropy')\n",
        "a=[]\n",
        "b=[]\n",
        "yA=list()\n",
        "y_predA=list()\n",
        "count=0\n",
        "for x,y in batch:\n",
        "  history=model.fit(np.matrix(x['Timestamp_ms']).T,np.matrix(y).T,epochs=50,batch_size=1)\n",
        "  y_pred = model.predict(np.matrix(x['Timestamp_ms']), batch_size=1)\n",
        "  y_predA.append(y_pred)\n",
        "  yA.append(y)\n",
        "  \n",
        "y_predANew=list()\n",
        "for i in range(len(batch)):\n",
        "  y_predANew.append(y_predA[i][0][0])\n"
      ],
      "execution_count": null,
      "outputs": []
    },
    {
      "cell_type": "code",
      "metadata": {
        "id": "wgwpIs26RDrr",
        "colab_type": "code",
        "colab": {}
      },
      "source": [
        "plt.plot(range(32), yA,  color='tomato',label='Real Network Transmitted Throughput [KB/s]')\n",
        "plt.plot(range(32), y_predANew, color='green', label='Predicted Network Transmitted Throughput [KB/s]')\n",
        "\n",
        "plt.legend(loc='upper left')\n",
        "plt.xlabel('Timestamp [ms]')\n",
        "plt.ylabel('Network Transmitted Throughput [KB/s]')"
      ],
      "execution_count": null,
      "outputs": []
    },
    {
      "cell_type": "code",
      "metadata": {
        "id": "O0yoBmwLXhA6",
        "colab_type": "code",
        "colab": {}
      },
      "source": [
        "# Mini Batching\n",
        "import keras\n",
        "from keras.models import Sequential\n",
        "from keras.layers import Dense\n",
        "from keras.optimizers import SGD\n",
        "import numpy as np\n",
        "\n",
        "batchSize=32\n",
        "print(\"Batch Size=\", batchSize)\n",
        "y_predANew=list()\n",
        "yA=list()\n",
        "for k in range(269):\n",
        "  batch=list()\n",
        "  \n",
        "  for i in range(batchSize):\n",
        "    batch.append(next(X_y))\n",
        "\n",
        "  model = Sequential()\n",
        "  layer_kw = dict(activation='sigmoid', init='glorot_uniform')\n",
        "  model.add(Dense(output_dim=5, input_shape=(1, ), **layer_kw))\n",
        "  model.add(Dense(output_dim=5, **layer_kw))\n",
        "  model.add(Dense(output_dim=1, **layer_kw))\n",
        "  sgd=SGD(lr=0.1)\n",
        "  model.compile(optimizer=sgd, loss='binary_crossentropy')\n",
        "  \n",
        "  y_predA=list()\n",
        "  count=0\n",
        "  for x,y in batch:\n",
        "    history=model.fit(np.matrix(x['Timestamp_ms']).T,np.matrix(y).T,epochs=20,batch_size=1)\n",
        "    y_pred = model.predict(np.matrix(x['Timestamp_ms']), batch_size=1)\n",
        "    y_predA.append(y_pred)\n",
        "    yA.append(y)\n",
        "    \n",
        "  for i in range(len(batch)):\n",
        "    y_predANew.append(y_predA[i][0][0])\n",
        "\n",
        "\n"
      ],
      "execution_count": null,
      "outputs": []
    },
    {
      "cell_type": "code",
      "metadata": {
        "id": "yAZrTQlVOr3G",
        "colab_type": "code",
        "colab": {}
      },
      "source": [
        ""
      ],
      "execution_count": null,
      "outputs": []
    },
    {
      "cell_type": "code",
      "metadata": {
        "id": "S0KG2Ho6Y0Lv",
        "colab_type": "code",
        "colab": {}
      },
      "source": [
        "plt.plot(range(64), yA[:64],  color='red',label='Original  Throughput [KB/s]')\n",
        "plt.plot(range(64), y_predANew[:64], color='green', label='Predicted Throughput [KB/s]')\n",
        "\n",
        "plt.legend(loc='upper left')\n",
        "plt.xlabel('Timestamp [ms]')\n",
        "plt.ylabel('Network Transmitted Throughput [KB/s]')"
      ],
      "execution_count": null,
      "outputs": []
    },
    {
      "cell_type": "code",
      "metadata": {
        "id": "zyzMuhhAZMft",
        "colab_type": "code",
        "colab": {}
      },
      "source": [
        ""
      ],
      "execution_count": null,
      "outputs": []
    }
  ]
}